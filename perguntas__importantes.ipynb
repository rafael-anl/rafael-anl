{
  "nbformat": 4,
  "nbformat_minor": 0,
  "metadata": {
    "colab": {
      "provenance": [],
      "authorship_tag": "ABX9TyMOfMOE/tENNxPQffW/YAfa",
      "include_colab_link": true
    },
    "kernelspec": {
      "name": "python3",
      "display_name": "Python 3"
    },
    "language_info": {
      "name": "python"
    }
  },
  "cells": [
    {
      "cell_type": "markdown",
      "metadata": {
        "id": "view-in-github",
        "colab_type": "text"
      },
      "source": [
        "<a href=\"https://colab.research.google.com/github/rafael-anl/rafael-anl/blob/main/perguntas__importantes.ipynb\" target=\"_parent\"><img src=\"https://colab.research.google.com/assets/colab-badge.svg\" alt=\"Open In Colab\"/></a>"
      ]
    },
    {
      "cell_type": "markdown",
      "source": [
        "#***Respostas de perguntas importantes para reacender o relacionamento e mandar embora a insegurança.***"
      ],
      "metadata": {
        "id": "D3-F8D_eKd4S"
      }
    },
    {
      "cell_type": "code",
      "execution_count": null,
      "metadata": {
        "id": "uoS5i3X2Hy6_"
      },
      "outputs": [],
      "source": [
        "input(\"\\nDigite seu nome: \")\n",
        "print(\"\\nOlá amor da minha vida, tudo bem?\")\n",
        "print(\"\\no que você quer ver no momento? Digite a opção escolhida. \")\n",
        "print(\"1 - O que você, Livia, significa para mim.\")\n",
        "print(\"2 - O quão importante você, Livia, é para mim.\")\n",
        "print(\"3 - O que mais admiro em você. \")\n",
        "print(\"4 - Se eu pudesse voltar no passado e fazer algo diferente, o que faria?\")\n",
        "print(\"5 - Qual palavra te define.\")\n",
        "print(\"6 - Qual foi a maior lição que eu tirei da nossa história.\")\n",
        "print(\"7 - Se alguém perguntasse qual o momento mais marcante que teve na vida, qual seria?\")\n",
        "print(\"8 - Sair\")\n",
        "opcao = input(\"Digite a operação desejada: \")\n",
        "if opcao == \"1\":\n",
        "    print(\"Você signica amor, paz, luz, força... Você significa tudo, meu motivo de acordar todo dia com um sorriso no rosto, motivado a ser alguém melhor e a te fazer a mulher mais feliz do mundo.\")\n",
        "elif opcao == \"2\":\n",
        "    print(\"Você é a pessoa mais importante na minha vida assim como o CR7 era importante para o Real Madrid.\")\n",
        "elif opcao == \"3\":\n",
        "    print(\"A mulher forte que você é, o quanto você vai longe por quem você ama e não desiste nunca, nunca perde a esperança e sempre faz de tudo pra superar e melhorar a situação e o problema. \")\n",
        "elif opcao == \"4\":\n",
        "        print(\"Eu teria conversado mais com você... me aberto mais... te escutado mais, teria sido mais compreensivo com você, começado antes a fazer e me interessar pelas coisas que você gosta e que fazem parte do seu dia, pararia de implicar e ser meio tóxico em relação a você sair com suas amigas ou em coisas da igreja que seu ex estava presente e a principal coisa que não faria, nunca teria terminado com você e muito menos ter falado muita coisa de cabeça quente e sem pensar que te machucaram tanto e te deixou com medo e insegura. 🙁 \")\n",
        "elif opcao == \"5\":\n",
        "        print(\"Guerreira e Luz. Guerreira porque você, mesmo com todas as dificuldades e obstáculos possíveis nunca desistiu e continuou sempre batalhando pela gente e Luz porque você é luz na minha vida, literalmente, a luz que me guia para o bom caminho, para a evolução, que me dá forças sempre  e que me fez abrir os olhos para ser alguém melhor. \")\n",
        "elif opcao == \"6\":\n",
        "    print(\"Não ser egoísta, escutar mais a parceira, pensar antes de falar e tomar uma atitude e principalmente não cogitar nunca em desistir da pessoa que amo mais que tudo. \")\n",
        "elif opcao == \"7\":\n",
        "        print(\"Tem muitos, e todos com você, mas eu diria que esse momento atual é o mais marcante e impactante pois você abriu meus olhos sobre tudo o que eu estava fazendo de ruim e errado tanto dentro do nosso relacionamento quanto fora na minha vida pessoal e isso me ajudou a evoluir muito, ser alguém melhor para mim, para você  pra conseguir recompensar tudo o que eu ja fiz que te magoou e principalmente para Deus, que no final das contas eu estava me distanciando cada vez mais do Senhor com minhas atitudes, mas, graças a você ter me mostrado a verdade, a realidade, eu estou conseguindo a minha redenção e voltar pro Pai (Deus). Você literalmente MUDOU A MINHA VIDA COMPLETAMENTE para melhor Livia e eu quero viver essa nova fase da minha vida ao seu lado, que foi e está sendo fundamental em tudo, para sempre, para te fazer a mulher, mais feliz do mundo. ❤ \")\n",
        "elif opcao == \"8\":\n",
        "    print(\"Saindo do programa, até a próxima...\")\n",
        "else:\n",
        "    print(\"Opção inválida! Escolha uma opção de operção de 1 a 8.\")"
      ]
    }
  ]
}